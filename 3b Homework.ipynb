{
 "cells": [
  {
   "cell_type": "markdown",
   "id": "fb33a2be-278c-46e4-9392-82d77e9bf56c",
   "metadata": {},
   "source": [
    "# NumPy"
   ]
  },
  {
   "cell_type": "markdown",
   "id": "f3782eca-8f29-41b2-93ca-f0924f9421bc",
   "metadata": {},
   "source": [
    "### Homework"
   ]
  },
  {
   "cell_type": "markdown",
   "id": "4aa7774e-fa1d-4d97-b6f1-a4efe89e5a2a",
   "metadata": {
    "tags": []
   },
   "source": [
    "#### Standard Exercises"
   ]
  },
  {
   "cell_type": "markdown",
   "id": "015697d6-12a5-49c2-bf7d-9094b9500f9c",
   "metadata": {},
   "source": [
    "Before you begin, remember to import the numpy library, if necessary."
   ]
  },
  {
   "cell_type": "code",
   "execution_count": null,
   "id": "1dee3279-50ba-4511-b303-5c57d7b32b0a",
   "metadata": {},
   "outputs": [],
   "source": [
    "import numpy as np"
   ]
  },
  {
   "cell_type": "markdown",
   "id": "d45669e7-3868-4134-a026-df07b61c0d36",
   "metadata": {},
   "source": [
    "1. Create the following two arrays and print them to screen: \n",
    "\n",
    "- a vector `vec1`, containing all the even numbers from 2 to 10, (extremes included)\n",
    "- a vector `vec2`, containing all the numbers from 1 to 5, (extremes included)"
   ]
  },
  {
   "cell_type": "code",
   "execution_count": null,
   "id": "84b1cd47-fa21-42ea-9b35-3b65154ac097",
   "metadata": {},
   "outputs": [],
   "source": []
  },
  {
   "cell_type": "markdown",
   "id": "4bed0f75-e083-46b9-87f8-e163dc4b9a0f",
   "metadata": {},
   "source": [
    "2. Subrtact `vec2` from `vec1` and save the result in a new vector `vec3`, then print `vec3`"
   ]
  },
  {
   "cell_type": "code",
   "execution_count": null,
   "id": "bb81964f-c3d1-4977-bba2-28aa5c3da4e2",
   "metadata": {},
   "outputs": [],
   "source": []
  },
  {
   "cell_type": "markdown",
   "id": "6b4d9ca2-cad3-4703-844a-762c4940ca64",
   "metadata": {},
   "source": [
    "3. Create a new vector `vec4` that is sums the scalar 5 to each element of `vec3`, then print `vec4`"
   ]
  },
  {
   "cell_type": "code",
   "execution_count": null,
   "id": "22b71893-ca95-4e73-9772-a7a3b95177c5",
   "metadata": {},
   "outputs": [],
   "source": []
  },
  {
   "cell_type": "markdown",
   "id": "71e76b9c-cf52-47d2-b036-bd0ee22ac0b8",
   "metadata": {},
   "source": [
    "4. Using vertical stacking, stack `vec3` on top of `vec4` and save the result to a new object named `matrix25`, then print `matrix25`"
   ]
  },
  {
   "cell_type": "code",
   "execution_count": null,
   "id": "f6558b02-482f-4624-bf4b-fe1e128015e7",
   "metadata": {},
   "outputs": [],
   "source": []
  },
  {
   "cell_type": "markdown",
   "id": "2808d58c-d471-49b5-8b2e-16ef03f89803",
   "metadata": {},
   "source": [
    "5. Using slicing, print to the screen the following subsets of `matrix25`: \n",
    "\n",
    "- print only the second row of data\n",
    "- print only the third column of data\n",
    "- print only the last element of the second row of data"
   ]
  },
  {
   "cell_type": "code",
   "execution_count": null,
   "id": "5931c767-88aa-4b85-9f5a-22fdacc08a26",
   "metadata": {},
   "outputs": [],
   "source": []
  },
  {
   "cell_type": "code",
   "execution_count": null,
   "id": "aba16fbc-ffad-419c-9302-97812396f267",
   "metadata": {},
   "outputs": [],
   "source": []
  },
  {
   "cell_type": "code",
   "execution_count": null,
   "id": "85f49830-f0b2-4f9e-8e46-4c2a2af31da0",
   "metadata": {},
   "outputs": [],
   "source": []
  },
  {
   "cell_type": "markdown",
   "id": "3c880f38-2508-4a11-81f6-cf9d07025e06",
   "metadata": {},
   "source": [
    "6. Create an array of size 5x5 (a matrix), containing random integer values from 1 to 100; name it `matrix55` and print it"
   ]
  },
  {
   "cell_type": "code",
   "execution_count": null,
   "id": "791bea30-17b6-491d-b5ec-353b1367d502",
   "metadata": {},
   "outputs": [],
   "source": []
  },
  {
   "cell_type": "markdown",
   "id": "405d058d-dc6d-40f0-a97d-59d4cfc4adf7",
   "metadata": {},
   "source": [
    "7. Using three separate statements, print:\n",
    "\n",
    "- the average of the whole table \n",
    "- the sum for each row of the matrix *(hint: you should get 5 results)*\n",
    "- the maximum value for each column of the matrix *(hint: you should get 5 results)*\n",
    "\n",
    "*Note: make sure you select the correct axis! [Click here](https://www.sharpsightlabs.com/blog/numpy-axes-explained/) for a refresher.*"
   ]
  },
  {
   "cell_type": "code",
   "execution_count": null,
   "id": "6c906a0e-016f-467c-b027-689adfcc5fe2",
   "metadata": {},
   "outputs": [],
   "source": []
  },
  {
   "cell_type": "code",
   "execution_count": null,
   "id": "524efd4d-fe59-425b-9698-543f86830489",
   "metadata": {},
   "outputs": [],
   "source": []
  },
  {
   "cell_type": "code",
   "execution_count": null,
   "id": "9906282b-cfdc-474a-82ac-2027aa8f0cca",
   "metadata": {},
   "outputs": [],
   "source": []
  },
  {
   "cell_type": "markdown",
   "id": "f55de372-a7eb-4130-93ac-779aeb305e47",
   "metadata": {},
   "source": [
    "8. Use a boolean mask to select only the values in the matrix that are above 50 and save the result in a new object named `mm`, then print `mm`. "
   ]
  },
  {
   "cell_type": "code",
   "execution_count": null,
   "id": "c4eb3b06-8ddd-4b3c-9949-2497da05138b",
   "metadata": {},
   "outputs": [],
   "source": []
  },
  {
   "cell_type": "markdown",
   "id": "fff322a7-08ea-43fd-8b7c-e209ede116f8",
   "metadata": {},
   "source": [
    "9. What is the shape of `mm`? If possible, reshape it to a multi-dimensional array (that is, an object with more than one dimension) and save it to a new object named `mmr`, then print `mmr`. *Note: since we generated `matrix55` using random numbers, your final result may be different from mine and from everyone esle.*"
   ]
  },
  {
   "cell_type": "code",
   "execution_count": null,
   "id": "225c1743-7f74-448f-9bef-5a90a316222a",
   "metadata": {},
   "outputs": [],
   "source": []
  },
  {
   "cell_type": "code",
   "execution_count": null,
   "id": "f87262ff-0ea7-4849-872d-0debe35e7676",
   "metadata": {},
   "outputs": [],
   "source": []
  },
  {
   "cell_type": "markdown",
   "id": "a63a3ca5-8418-45fe-a48c-d59533c38f38",
   "metadata": {},
   "source": [
    "10. Print just the elements of the `mmr` matrix that are even."
   ]
  },
  {
   "cell_type": "code",
   "execution_count": null,
   "id": "a9a4e93b-adb4-4658-85e0-4a012946ff88",
   "metadata": {},
   "outputs": [],
   "source": []
  },
  {
   "cell_type": "markdown",
   "id": "6dd4f29f-9c16-471a-8915-79af31224744",
   "metadata": {},
   "source": [
    "**If you would like to <font color='green'>continue practicing</font>, visit [this link](https://www.machinelearningplus.com/python/101-numpy-exercises-python/) for a list of 70 numpy exercises with solutions.**"
   ]
  },
  {
   "cell_type": "markdown",
   "id": "3c662102-dca2-4a00-8de5-0324a47bfe4d",
   "metadata": {},
   "source": [
    "#### Advanced Exercises"
   ]
  },
  {
   "cell_type": "markdown",
   "id": "d33ecdff-ba8a-416a-b519-f79343526c24",
   "metadata": {},
   "source": [
    "1. Replicate the following scheme using the functions and methods we saw in class (not by entering each value by hand)\n",
    "\n",
    "```\n",
    "[[1 1 1 1 1]\n",
    " [1 0 0 0 1]\n",
    " [1 0 1 0 1]\n",
    " [1 0 0 0 1]\n",
    " [1 1 1 1 1]]\n",
    "```"
   ]
  },
  {
   "cell_type": "code",
   "execution_count": null,
   "id": "733cf50a-fc20-4cda-97e0-bc6be0c94be1",
   "metadata": {},
   "outputs": [],
   "source": []
  },
  {
   "cell_type": "markdown",
   "id": "e1c44a90-d9af-4928-b485-55f57c409d8a",
   "metadata": {},
   "source": [
    " "
   ]
  },
  {
   "cell_type": "markdown",
   "id": "7cfe184e-c0b9-41f2-8130-43efa349d2e9",
   "metadata": {},
   "source": [
    "Before moving to the next question, import the following libraries"
   ]
  },
  {
   "cell_type": "code",
   "execution_count": null,
   "id": "af0b419a-2db2-4430-8dbc-4a2b4f68a6e0",
   "metadata": {},
   "outputs": [],
   "source": [
    "from skimage import io\n",
    "import matplotlib.pyplot as plt"
   ]
  },
  {
   "cell_type": "markdown",
   "id": "bee405ff-9ac0-4ca9-8a5b-f8938ef4602e",
   "metadata": {},
   "source": [
    "2. Using the `io.imread()` function, load the `hw_earth.jpg` (from the img folder) image file to a new object named `earth` and show it with the `plt.imshow()` function. "
   ]
  },
  {
   "cell_type": "code",
   "execution_count": null,
   "id": "1ccdc154-4b3d-4384-aa91-ccb342acbb84",
   "metadata": {},
   "outputs": [],
   "source": []
  },
  {
   "cell_type": "markdown",
   "id": "44f3a1ac-e1e0-4195-af03-d408b918ea4b",
   "metadata": {},
   "source": [
    "3. Using the methods seen in class, crop the image as to roughly show only Europe and assign it to a new object named `europe`"
   ]
  },
  {
   "cell_type": "code",
   "execution_count": null,
   "id": "2d2963d4-b888-4e97-9546-504e378179bf",
   "metadata": {},
   "outputs": [],
   "source": []
  },
  {
   "cell_type": "markdown",
   "id": "da58151f-8a8a-4ea6-bb73-be7efaade40e",
   "metadata": {},
   "source": [
    "4. Using a boolean mask, take the `earth` object and replace all pixels with a value > 200 with a value of 255 (255 = white), this process should slightly increase the contrast of the image; assign this image to a new object named `earth_white`."
   ]
  },
  {
   "cell_type": "code",
   "execution_count": null,
   "id": "df6fcf4b-bedc-44d8-b11c-cb09ce2138d9",
   "metadata": {},
   "outputs": [],
   "source": []
  },
  {
   "cell_type": "markdown",
   "id": "0cdeccfa-07e9-4189-9700-a71d44878f21",
   "metadata": {},
   "source": [
    "5. [<font color='red'>**Difficult**</font>] Take the initial `earth` picture and add the `hw_alien.png` (from the img folder) somewhere in the black void to the left of the earth (you should get something like the screenshot below)."
   ]
  },
  {
   "cell_type": "markdown",
   "id": "77fae84a-852e-44a4-85dc-701d673b4352",
   "metadata": {},
   "source": [
    "<img src=\"img/hw_earth-alien-screenshot.png\" width=\"300\">"
   ]
  },
  {
   "cell_type": "code",
   "execution_count": null,
   "id": "a350769f-9792-4ca4-aaf0-5b8b4cff6869",
   "metadata": {},
   "outputs": [],
   "source": []
  },
  {
   "cell_type": "code",
   "execution_count": null,
   "id": "88928a04-7d56-423a-b50b-e9a534d0cde4",
   "metadata": {},
   "outputs": [],
   "source": []
  },
  {
   "cell_type": "code",
   "execution_count": null,
   "id": "8494fe02-af7d-4eb9-975a-0c321a815cf9",
   "metadata": {},
   "outputs": [],
   "source": []
  },
  {
   "cell_type": "code",
   "execution_count": null,
   "id": "ffbcb945-257a-42a4-81c2-8ba7730f2a20",
   "metadata": {},
   "outputs": [],
   "source": []
  },
  {
   "cell_type": "code",
   "execution_count": null,
   "id": "c44cab4e-8c71-49e4-9d78-898b7a453a68",
   "metadata": {},
   "outputs": [],
   "source": []
  }
 ],
 "metadata": {
  "kernelspec": {
   "display_name": "Python 3 (ipykernel)",
   "language": "python",
   "name": "python3"
  },
  "language_info": {
   "codemirror_mode": {
    "name": "ipython",
    "version": 3
   },
   "file_extension": ".py",
   "mimetype": "text/x-python",
   "name": "python",
   "nbconvert_exporter": "python",
   "pygments_lexer": "ipython3",
   "version": "3.9.7"
  }
 },
 "nbformat": 4,
 "nbformat_minor": 5
}
